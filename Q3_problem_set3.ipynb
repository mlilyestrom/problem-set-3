{
 "cells": [
  {
   "cell_type": "markdown",
   "id": "811ed3ec-4fcb-498a-88c8-2b5cf660e949",
   "metadata": {},
   "source": [
    "# Problem Set 3 -- Fastest rise in water level (Q3)\n",
    "\n",
    "Calculates the fastest rise in water level observed in Panama City, FL using the dataset at `data/CO-OPS__8729108__wl.csv`"
   ]
  },
  {
   "cell_type": "code",
   "execution_count": 10,
   "id": "648753e3-00a4-44fc-8b75-1cf21ee74815",
   "metadata": {},
   "outputs": [
    {
     "name": "stdout",
     "output_type": "stream",
     "text": [
      "No water level data for 2018-10-10 18:18\n",
      "Line Count: 725\n",
      "0.6400000000000006 2018-10-10 17:42\n"
     ]
    }
   ],
   "source": [
    "fhand = open('/blue/bsc4452/mlilyestrom/Class_Files/data/CO-OPS__8729108__wl.csv')\n",
    "count = 0\n",
    "max_water_level = 0\n",
    "prev_water_level = 2.421\n",
    "max_diff = -100\n",
    "date_time_max_diff = 0\n",
    "fhand.readline()\n",
    "\n",
    "for line in fhand:\n",
    "    count = count + 1\n",
    "    line = line.rstrip()\n",
    "    columns = line.split(sep=',')\n",
    "    date_time = columns[0]\n",
    "    \n",
    "    try:\n",
    "        water_level = float(columns[1])\n",
    "        diff = water_level - prev_water_level\n",
    "        prev_water_level = water_level\n",
    "    except:\n",
    "        print(f\"No water level data for {date_time}\")\n",
    "        continue\n",
    "    \n",
    "    if diff > max_diff:\n",
    "        #print(\"New max diff found\")\n",
    "        max_diff = diff\n",
    "        date_time_max_diff = date_time\n",
    "    \n",
    "print('Line Count:', count)\n",
    "print(max_diff, date_time_max_diff)"
   ]
  }
 ],
 "metadata": {
  "kernelspec": {
   "display_name": "UFRC Python-3.10",
   "language": "python",
   "name": "python3-3.10-ufrc"
  },
  "language_info": {
   "codemirror_mode": {
    "name": "ipython",
    "version": 3
   },
   "file_extension": ".py",
   "mimetype": "text/x-python",
   "name": "python",
   "nbconvert_exporter": "python",
   "pygments_lexer": "ipython3",
   "version": "3.10.5"
  }
 },
 "nbformat": 4,
 "nbformat_minor": 5
}
