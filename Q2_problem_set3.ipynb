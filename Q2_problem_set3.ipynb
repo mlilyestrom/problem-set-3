{
 "cells": [
  {
   "cell_type": "markdown",
   "id": "2d4cceb2-f7ec-440f-aed7-46b75a4bcb74",
   "metadata": {},
   "source": [
    "# Problem Set 3 -- Lowest, highest, average water level (Q2)\n",
    "\n",
    "Calculates the lowest, highest, and average water level observed in Panama City, FL; print the date and time for the lowest and highest readings using the dataset at `data/CO-OPS__8729108__wl.csv`"
   ]
  },
  {
   "cell_type": "code",
   "execution_count": 3,
   "id": "03d9db0f-e3fc-4a9c-9cdf-e52274a9802d",
   "metadata": {},
   "outputs": [
    {
     "name": "stdout",
     "output_type": "stream",
     "text": [
      "/blue/bsc4452/mlilyestrom/Jupyter_content\n"
     ]
    }
   ],
   "source": [
    "!pwd"
   ]
  },
  {
   "cell_type": "markdown",
   "id": "d3c35ce1-6852-4d90-8f86-b04b1f488408",
   "metadata": {},
   "source": [
    "## Opening the file"
   ]
  },
  {
   "cell_type": "code",
   "execution_count": 16,
   "id": "153623de-1e3d-42c2-b588-af2ea9caeadf",
   "metadata": {},
   "outputs": [
    {
     "name": "stdout",
     "output_type": "stream",
     "text": [
      "Data file opened for reading\n"
     ]
    }
   ],
   "source": [
    "try:\n",
    "    fhand = open('/blue/bsc4452/mlilyestrom/Class_Files/data/CO-OPS__8729108__wl.csv')\n",
    "    print(\"Data file opened for reading\")\n",
    "except:\n",
    "    print(\"Couldn't open file for reading\")"
   ]
  },
  {
   "cell_type": "markdown",
   "id": "dd1f6eea-9959-4d54-ab56-f1ecc31fb3e0",
   "metadata": {},
   "source": [
    "## Finding the highest water level (and date & time)"
   ]
  },
  {
   "cell_type": "code",
   "execution_count": 1,
   "id": "bc7c4576-c0f3-413f-8155-d6a44f25062b",
   "metadata": {
    "tags": []
   },
   "outputs": [
    {
     "name": "stdout",
     "output_type": "stream",
     "text": [
      "No water level data for 2018-10-10 18:18\n",
      "Line Count: 725\n",
      "6.647 2018-10-10 18:06\n"
     ]
    }
   ],
   "source": [
    "fhand = open('/blue/bsc4452/mlilyestrom/Class_Files/data/CO-OPS__8729108__wl.csv')\n",
    "count = 0\n",
    "max_water_level = 0\n",
    "date_time_max_water_level = 0\n",
    "fhand.readline()\n",
    "\n",
    "for line in fhand:\n",
    "    count = count + 1\n",
    "    line = line.rstrip()\n",
    "    #print(line)\n",
    "    \n",
    "    columns = line.split(sep=',')\n",
    "    #print(columns[1])\n",
    "    date_time = columns[0]\n",
    "    try:\n",
    "        water_level = float(columns[1])\n",
    "    except:\n",
    "        print(f\"No water level data for {date_time}\")\n",
    "        continue\n",
    "    \n",
    "    if water_level > max_water_level:\n",
    "        #print(\"New max water level found\")\n",
    "        max_water_level = water_level\n",
    "        date_time_max_water_level = date_time\n",
    "    \n",
    "print('Line Count:', count)\n",
    "print(max_water_level, date_time_max_water_level)"
   ]
  },
  {
   "cell_type": "markdown",
   "id": "b52e114c-cf0b-4155-9dbf-9e19319e74fb",
   "metadata": {},
   "source": [
    "## Finding the lowest water level (and date & time)"
   ]
  },
  {
   "cell_type": "code",
   "execution_count": 16,
   "id": "ea28208f-1f8d-4e6d-b7dc-4573db01bc70",
   "metadata": {},
   "outputs": [
    {
     "name": "stdout",
     "output_type": "stream",
     "text": [
      "No water level data for 2018-10-10 18:18\n",
      "Line Count: 725\n",
      "1.621 2018-10-11 15:36\n"
     ]
    }
   ],
   "source": [
    "fhand = open('/blue/bsc4452/mlilyestrom/Class_Files/data/CO-OPS__8729108__wl.csv')\n",
    "count = 0\n",
    "min_water_level = 100\n",
    "date_time_min_water_level = 0\n",
    "fhand.readline()\n",
    "\n",
    "for line in fhand:\n",
    "    count = count + 1\n",
    "    line = line.rstrip()\n",
    "    #print(line)\n",
    "    \n",
    "    columns = line.split(sep=',')\n",
    "    #print(columns[1])\n",
    "    date_time = columns[0]\n",
    "    try:\n",
    "        water_level = float(columns[1])\n",
    "    except:\n",
    "        print(f\"No water level data for {date_time}\")\n",
    "        continue\n",
    "    \n",
    "    if water_level < min_water_level:\n",
    "        #print(\"New min water level found\")\n",
    "        min_water_level = water_level\n",
    "        date_time_min_water_level = date_time\n",
    "    \n",
    "print('Line Count:', count)\n",
    "print(min_water_level, date_time_min_water_level)"
   ]
  },
  {
   "cell_type": "markdown",
   "id": "9963e8c7-81d5-44a8-a4ed-487f7cf89b04",
   "metadata": {},
   "source": [
    "## Finding the average water level"
   ]
  },
  {
   "cell_type": "code",
   "execution_count": 37,
   "id": "d9cb4abb-5687-45d6-9047-adef20f22d35",
   "metadata": {},
   "outputs": [
    {
     "name": "stdout",
     "output_type": "stream",
     "text": [
      "No water level data\n",
      "Line Count: 725\n",
      "Sum: 2159.2020000000007\n",
      "Average: 2.9823232044198904\n"
     ]
    }
   ],
   "source": [
    "fhand = open('/blue/bsc4452/mlilyestrom/Class_Files/data/CO-OPS__8729108__wl.csv')\n",
    "count = 0\n",
    "water_level = []\n",
    "fhand.readline()\n",
    "\n",
    "for line in fhand:\n",
    "    \n",
    "    line = line.rstrip()\n",
    "    columns = line.split(sep=',')\n",
    "    count = count + 1\n",
    "    \n",
    "    try:\n",
    "        water_level.append(float(columns[1]))\n",
    "    except:\n",
    "        print(f\"No water level data\")\n",
    "        continue\n",
    "\n",
    "#print(water_level)\n",
    "print('Line Count:', count)\n",
    "print('Sum:', sum(water_level))\n",
    "print('Average:', sum(water_level)/len(water_level))"
   ]
  }
 ],
 "metadata": {
  "kernelspec": {
   "display_name": "UFRC Python-3.10",
   "language": "python",
   "name": "python3-3.10-ufrc"
  },
  "language_info": {
   "codemirror_mode": {
    "name": "ipython",
    "version": 3
   },
   "file_extension": ".py",
   "mimetype": "text/x-python",
   "name": "python",
   "nbconvert_exporter": "python",
   "pygments_lexer": "ipython3",
   "version": "3.10.5"
  }
 },
 "nbformat": 4,
 "nbformat_minor": 5
}
