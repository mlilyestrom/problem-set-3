{
 "cells": [
  {
   "cell_type": "markdown",
   "id": "70a907db-4c62-44ab-bcce-50e15f6bfacb",
   "metadata": {},
   "source": [
    "# Problem Set 3 -- Warnings for live readings of water level (Q4)\n",
    "\n",
    "Prints warnings for certain water level conditions observed in Panama City, FL using the dataset at `data/CO-OPS__8729108__wl.csv`"
   ]
  },
  {
   "cell_type": "code",
   "execution_count": 4,
   "id": "c75a1ca2-3389-4ebb-9a63-d5b3f7e9bf3e",
   "metadata": {},
   "outputs": [
    {
     "name": "stdout",
     "output_type": "stream",
     "text": [
      "Water level increase over 0.25 for 2018-10-10 17:30\n",
      "Water level increase over 0.25 for 2018-10-10 17:36\n",
      "Water level increase over 0.25 for 2018-10-10 17:42\n",
      "Water level over 5.0 for 2018-10-10 17:42\n",
      "Water level increase over 0.25 for 2018-10-10 17:48\n",
      "Water level over 5.0 for 2018-10-10 17:48\n",
      "Water level increase over 0.25 for 2018-10-10 17:54\n",
      "Water level over 5.0 for 2018-10-10 17:54\n",
      "Water level over 5.0 for 2018-10-10 18:00\n",
      "Water level over 5.0 for 2018-10-10 18:06\n",
      "Water level over 5.0 for 2018-10-10 18:12\n",
      "No water level data for 2018-10-10 18:18\n",
      "Water level over 5.0 for 2018-10-10 18:24\n",
      "Water level over 5.0 for 2018-10-10 18:30\n",
      "Water level over 5.0 for 2018-10-10 18:36\n",
      "Water level over 5.0 for 2018-10-10 18:42\n",
      "Water level over 5.0 for 2018-10-10 18:48\n",
      "Water level over 5.0 for 2018-10-10 18:54\n",
      "Water level over 5.0 for 2018-10-10 19:00\n",
      "Line Count: 725\n"
     ]
    }
   ],
   "source": [
    "fhand = open('/blue/bsc4452/mlilyestrom/Class_Files/data/CO-OPS__8729108__wl.csv')\n",
    "count = 0\n",
    "max_water_level = 0\n",
    "prev_water_level = 2.421\n",
    "max_diff = -100\n",
    "date_time_max_diff = 0\n",
    "fhand.readline()\n",
    "\n",
    "for line in fhand:\n",
    "    count = count + 1\n",
    "    line = line.rstrip()\n",
    "    columns = line.split(sep=',')\n",
    "    date_time = columns[0]\n",
    "    \n",
    "    try:\n",
    "        water_level = float(columns[1])\n",
    "        diff = water_level - prev_water_level\n",
    "        prev_water_level = water_level\n",
    "    except:\n",
    "        print(f\"No water level data for {date_time}\")\n",
    "        continue\n",
    "    \n",
    "    if diff > max_diff:\n",
    "        #print(\"New max diff found\")\n",
    "        max_diff = diff\n",
    "        date_time_max_diff = date_time\n",
    "        \n",
    "    if diff > 0.25:\n",
    "        print(f\"Water level increase over 0.25 for {date_time}\")\n",
    "    \n",
    "    if water_level > 5.0:\n",
    "        print (f\"Water level over 5.0 for {date_time}\")\n",
    "    \n",
    "print('Line Count:', count)"
   ]
  }
 ],
 "metadata": {
  "kernelspec": {
   "display_name": "UFRC Python-3.10",
   "language": "python",
   "name": "python3-3.10-ufrc"
  },
  "language_info": {
   "codemirror_mode": {
    "name": "ipython",
    "version": 3
   },
   "file_extension": ".py",
   "mimetype": "text/x-python",
   "name": "python",
   "nbconvert_exporter": "python",
   "pygments_lexer": "ipython3",
   "version": "3.10.5"
  }
 },
 "nbformat": 4,
 "nbformat_minor": 5
}
